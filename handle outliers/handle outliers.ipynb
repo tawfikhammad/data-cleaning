{
 "cells": [
  {
   "cell_type": "markdown",
   "id": "23288cd4",
   "metadata": {},
   "source": [
    "# <p style=\"padding:10px;background-color:#85BB65;margin:0;color:white;font-family:newtimeroman;font-size:150%;text-align:center;border-radius: 15px 50px;overflow:hidden;font-weight:500\">handle outliers</p>\n"
   ]
  },
  {
   "cell_type": "markdown",
   "id": "fe882463",
   "metadata": {},
   "source": [
    "**There are certain things which, if are not done in the EDA phase, can affect further statistical/Machine Learning modelling. One of them is finding “Outliers”. In this post we will try to understand what is an outlier? Why is it important to identify the outliers? What are the methods to outliers?**\n",
    "\n",
    "* outlier is an observation point that is distant from other observations.\n"
   ]
  },
  {
   "cell_type": "code",
   "execution_count": 2,
   "id": "6f09aa78",
   "metadata": {},
   "outputs": [],
   "source": [
    "import pandas as pd \n",
    "import numpy as np \n",
    "import matplotlib.pyplot as plt\n",
    "import seaborn as sns \n",
    "\n",
    "from scipy import stats\n",
    "from sklearn.datasets import load_boston"
   ]
  },
  {
   "cell_type": "markdown",
   "id": "44ae5e65",
   "metadata": {},
   "source": [
    "# **<span style='color:#85BB65'>What causes outliers? </span>**\n",
    "\n",
    "<br>\n",
    "\n",
    "**It is important to carefully analyze and understand the reasons behind outliers in a dataset.\n",
    "The outliers can be a result of a mistake during data collection or it can be just an indication of variance in your data.**\n",
    "\n",
    "<mark style=\"background-color:#85BB65;color:white;font-size:100%;border-radius:3px;opacity:2.0\">1</mark> **<span style='color:#85BB65'> Measurement errors: </span>** Outliers can occur due to errors in data collection or measurement.\n",
    "\n",
    "<mark style=\"background-color:#85BB65;color:white;font-size:100%;border-radius:3px;opacity:2.0\">2</mark> **<span style='color:#85BB65'> Data entry errors: </span>** Mistakes during data entry can lead to outliers.\n",
    "\n",
    "<mark style=\"background-color:#85BB65;color:white;font-size:100%;border-radius:3px;opacity:2.0\">3</mark> **<span style='color:#85BB65'> Sampling issues: </span>** If the sample does not accurately represent the population or if there are unusual characteristics within the sampled data, outliers may occur.\n",
    "\n",
    "<br>\n",
    "\n",
    "<div style=\"border-radius:10px;border:#85BB65 solid;padding: 15px;background-color:#ffffff00;font-size:100%;text-align:left\">\n",
    "how would you decide if they are important or not. Well, it is pretty simple if they are the result of a mistake, then we can ignore them, but if it is just a variance in the data we would need think a bit further. Before we try to understand whether to ignore the outliers or not, we need to know the ways to identify them.\n",
    "</div>\n"
   ]
  },
  {
   "cell_type": "markdown",
   "id": "97c05cd2",
   "metadata": {},
   "source": [
    "# **<span style='color:#85BB65'> How to detect Outliers? </span>**\n",
    "\n",
    "**To ease the discovery of outliers, we have plenty of methods in statistics, but we will only be discussing few of them. Mostly we will try to see visualization methods(easiest ones) rather mathematical.**\n",
    "\n",
    "**So, Let’s get start.**\n",
    "\n",
    "We will be using Boston House Pricing Dataset which is included in the sklearn dataset API"
   ]
  },
  {
   "cell_type": "code",
   "execution_count": 3,
   "id": "9ae8376c",
   "metadata": {},
   "outputs": [
    {
     "data": {
      "text/html": [
       "<div>\n",
       "<style scoped>\n",
       "    .dataframe tbody tr th:only-of-type {\n",
       "        vertical-align: middle;\n",
       "    }\n",
       "\n",
       "    .dataframe tbody tr th {\n",
       "        vertical-align: top;\n",
       "    }\n",
       "\n",
       "    .dataframe thead th {\n",
       "        text-align: right;\n",
       "    }\n",
       "</style>\n",
       "<table border=\"1\" class=\"dataframe\">\n",
       "  <thead>\n",
       "    <tr style=\"text-align: right;\">\n",
       "      <th></th>\n",
       "      <th>CRIM</th>\n",
       "      <th>ZN</th>\n",
       "      <th>INDUS</th>\n",
       "      <th>CHAS</th>\n",
       "      <th>NOX</th>\n",
       "      <th>RM</th>\n",
       "      <th>AGE</th>\n",
       "      <th>DIS</th>\n",
       "      <th>RAD</th>\n",
       "      <th>TAX</th>\n",
       "      <th>PTRATIO</th>\n",
       "      <th>B</th>\n",
       "      <th>LSTAT</th>\n",
       "      <th>MEDV</th>\n",
       "    </tr>\n",
       "  </thead>\n",
       "  <tbody>\n",
       "    <tr>\n",
       "      <th>0</th>\n",
       "      <td>0.00632</td>\n",
       "      <td>18.0</td>\n",
       "      <td>2.31</td>\n",
       "      <td>0.0</td>\n",
       "      <td>0.538</td>\n",
       "      <td>6.575</td>\n",
       "      <td>65.2</td>\n",
       "      <td>4.0900</td>\n",
       "      <td>1</td>\n",
       "      <td>296</td>\n",
       "      <td>15.3</td>\n",
       "      <td>396.90</td>\n",
       "      <td>4.98</td>\n",
       "      <td>24.0</td>\n",
       "    </tr>\n",
       "    <tr>\n",
       "      <th>1</th>\n",
       "      <td>0.02731</td>\n",
       "      <td>0.0</td>\n",
       "      <td>7.07</td>\n",
       "      <td>0.0</td>\n",
       "      <td>0.469</td>\n",
       "      <td>6.421</td>\n",
       "      <td>78.9</td>\n",
       "      <td>4.9671</td>\n",
       "      <td>2</td>\n",
       "      <td>242</td>\n",
       "      <td>17.8</td>\n",
       "      <td>396.90</td>\n",
       "      <td>9.14</td>\n",
       "      <td>21.6</td>\n",
       "    </tr>\n",
       "    <tr>\n",
       "      <th>2</th>\n",
       "      <td>0.02729</td>\n",
       "      <td>0.0</td>\n",
       "      <td>7.07</td>\n",
       "      <td>0.0</td>\n",
       "      <td>0.469</td>\n",
       "      <td>7.185</td>\n",
       "      <td>61.1</td>\n",
       "      <td>4.9671</td>\n",
       "      <td>2</td>\n",
       "      <td>242</td>\n",
       "      <td>17.8</td>\n",
       "      <td>392.83</td>\n",
       "      <td>4.03</td>\n",
       "      <td>34.7</td>\n",
       "    </tr>\n",
       "    <tr>\n",
       "      <th>3</th>\n",
       "      <td>0.03237</td>\n",
       "      <td>0.0</td>\n",
       "      <td>2.18</td>\n",
       "      <td>0.0</td>\n",
       "      <td>0.458</td>\n",
       "      <td>6.998</td>\n",
       "      <td>45.8</td>\n",
       "      <td>6.0622</td>\n",
       "      <td>3</td>\n",
       "      <td>222</td>\n",
       "      <td>18.7</td>\n",
       "      <td>394.63</td>\n",
       "      <td>2.94</td>\n",
       "      <td>33.4</td>\n",
       "    </tr>\n",
       "    <tr>\n",
       "      <th>4</th>\n",
       "      <td>0.06905</td>\n",
       "      <td>0.0</td>\n",
       "      <td>2.18</td>\n",
       "      <td>0.0</td>\n",
       "      <td>0.458</td>\n",
       "      <td>7.147</td>\n",
       "      <td>54.2</td>\n",
       "      <td>6.0622</td>\n",
       "      <td>3</td>\n",
       "      <td>222</td>\n",
       "      <td>18.7</td>\n",
       "      <td>396.90</td>\n",
       "      <td>NaN</td>\n",
       "      <td>36.2</td>\n",
       "    </tr>\n",
       "  </tbody>\n",
       "</table>\n",
       "</div>"
      ],
      "text/plain": [
       "      CRIM    ZN  INDUS  CHAS    NOX     RM   AGE     DIS  RAD  TAX  PTRATIO  \\\n",
       "0  0.00632  18.0   2.31   0.0  0.538  6.575  65.2  4.0900    1  296     15.3   \n",
       "1  0.02731   0.0   7.07   0.0  0.469  6.421  78.9  4.9671    2  242     17.8   \n",
       "2  0.02729   0.0   7.07   0.0  0.469  7.185  61.1  4.9671    2  242     17.8   \n",
       "3  0.03237   0.0   2.18   0.0  0.458  6.998  45.8  6.0622    3  222     18.7   \n",
       "4  0.06905   0.0   2.18   0.0  0.458  7.147  54.2  6.0622    3  222     18.7   \n",
       "\n",
       "        B  LSTAT  MEDV  \n",
       "0  396.90   4.98  24.0  \n",
       "1  396.90   9.14  21.6  \n",
       "2  392.83   4.03  34.7  \n",
       "3  394.63   2.94  33.4  \n",
       "4  396.90    NaN  36.2  "
      ]
     },
     "execution_count": 3,
     "metadata": {},
     "output_type": "execute_result"
    }
   ],
   "source": [
    "boston_df = pd.read_csv('HousingData.csv')\n",
    "boston_df.head()"
   ]
  },
  {
   "cell_type": "markdown",
   "id": "8bc62ef5",
   "metadata": {},
   "source": [
    "There are two types of analysis we will follow to find the outliers- Uni-variate(one variable outlier analysis) and Multi-variate(two or more variable outlier analysis).\n",
    "\n",
    "we will start with the basic method of detecting outliers"
   ]
  },
  {
   "cell_type": "markdown",
   "id": "57bd97be",
   "metadata": {},
   "source": [
    "### <mark style=\"background-color:#85BB65;color:white;font-size:100%;border-radius:3px;opacity:2.0\">Discover outliers with visualization tools </mark>\n",
    "<br>\n",
    "\n",
    "## <b>I <span style='color:#85BB65'>|</span> Box plot </b> \n",
    "\n",
    "\n",
    "we analysed Uni-variate outlier. we used `DIS` column only to check the outlier."
   ]
  },
  {
   "cell_type": "markdown",
   "id": "f24c8daa",
   "metadata": {},
   "source": [
    "In descriptive statistics, a box plot is a method for graphically depicting groups of numerical data through their quartiles. Box plots may also have lines extending vertically from the boxes (whiskers) indicating variability outside the upper and lower quartiles, hence the terms box-and-whisker plot and box-and-whisker diagram. Outliers may be plotted as individual points"
   ]
  },
  {
   "cell_type": "code",
   "execution_count": 4,
   "id": "4a80224f",
   "metadata": {
    "scrolled": false
   },
   "outputs": [
    {
     "data": {
      "image/png": "[encoded data removed]",
      "text/plain": [
       "<Figure size 640x480 with 1 Axes>"
      ]
     },
     "metadata": {},
     "output_type": "display_data"
    }
   ],
   "source": [
    "sns.boxplot(x=boston_df['DIS']);"
   ]
  },
  {
   "cell_type": "markdown",
   "id": "1d477f97",
   "metadata": {},
   "source": [
    "* Above plot shows three points between 10 to 12, these are outliers as there are not included in the box of other observation i.e no where near the quartiles."
   ]
  },
  {
   "cell_type": "markdown",
   "id": "705681e6",
   "metadata": {},
   "source": [
    "## <b>II <span style='color:#85BB65'>|</span> Scatter plot </b> \n",
    "\n",
    "we can do multivariate outlier analysis too by scatter plot."
   ]
  },
  {
   "cell_type": "code",
   "execution_count": 5,
   "id": "93e0718a",
   "metadata": {},
   "outputs": [
    {
     "data": {
      "image/png": "[encoded data removed]",
      "text/plain": [
       "<Figure size 1600x800 with 1 Axes>"
      ]
     },
     "metadata": {},
     "output_type": "display_data"
    }
   ],
   "source": [
    "fig, ax = plt.subplots(figsize=(16,8))\n",
    "ax.scatter(boston_df['INDUS'], boston_df['TAX'])\n",
    "ax.set_xlabel('Proportion of non-retail business acres per town')\n",
    "ax.set_ylabel('Full-value property-tax rate per $10,000')\n",
    "plt.show()"
   ]
  },
  {
   "cell_type": "markdown",
   "id": "ccae73b9",
   "metadata": {},
   "source": [
    "* we can most of data points are lying bottom left side but there are points which are far from the population like top right corner."
   ]
  },
  {
   "cell_type": "markdown",
   "id": "9218ff1f",
   "metadata": {},
   "source": [
    "### <mark style=\"background-color:#85BB65;color:white;font-size:100%;border-radius:3px;opacity:2.0\">Discover outliers with mathematical function </mark>\n",
    "\n",
    "<br>\n",
    "\n",
    "## <b>I <span style='color:#85BB65'>|</span> Z-Score </b> \n"
   ]
  },
  {
   "cell_type": "markdown",
   "id": "b8054147",
   "metadata": {},
   "source": [
    "Z-score describes any data point by finding their relationship with the Standard Deviation and Mean of the group of data points. Z-score is finding the distribution of data where mean is 0 and standard deviation is 1 (normal distribution).\n",
    "\n",
    "while calculating the Z-score we re-scale and center the data and look for data points which are too far from zero. These data points which are way too far from zero will be treated as the outliers. In most of the cases a threshold of 3 or -3 is used i.e if the Z-score value is greater than or less than 3 or -3 respectively, that data point will be identified as outliers."
   ]
  },
  {
   "cell_type": "code",
   "execution_count": 6,
   "id": "c396244e",
   "metadata": {
    "scrolled": true
   },
   "outputs": [
    {
     "name": "stdout",
     "output_type": "stream",
     "text": [
      "(array([102, 225, 257, 262, 351, 352, 353, 354, 355, 364, 365, 367, 374,\n",
      "       406, 410, 411, 412, 415, 416, 418, 419, 423, 424, 425, 426, 427,\n",
      "       429, 431, 436, 437, 438, 445, 450, 454, 455, 456, 457, 466],\n",
      "      dtype=int64), array([11,  5,  5,  5,  7,  7,  7,  7,  7,  5,  5,  5,  5,  5, 11, 11, 11,\n",
      "       11, 11, 11, 11, 11, 11, 11, 11, 11, 11, 11, 11, 11, 11, 11, 11, 11,\n",
      "       11, 11, 11, 11], dtype=int64))\n"
     ]
    }
   ],
   "source": [
    "z = np.abs(stats.zscore(boston_df))\n",
    "print(np.where(z > 3))"
   ]
  },
  {
   "cell_type": "markdown",
   "id": "9d7b6c99",
   "metadata": {},
   "source": [
    "**The first array contains the list of row numbers and second array respective column numbers, which mean z[55][1] have a Z-score higher than 3.**"
   ]
  },
  {
   "cell_type": "code",
   "execution_count": 7,
   "id": "2f5d4081",
   "metadata": {
    "scrolled": false
   },
   "outputs": [
    {
     "name": "stdout",
     "output_type": "stream",
     "text": [
      "nan\n"
     ]
    }
   ],
   "source": [
    "print(z.iloc[55,1])"
   ]
  },
  {
   "cell_type": "markdown",
   "id": "1a6138ad",
   "metadata": {},
   "source": [
    "**So, the data point — 55th record on column ZN is an outlier.**"
   ]
  },
  {
   "cell_type": "markdown",
   "id": "2be02aa4",
   "metadata": {},
   "source": [
    "## <b>II <span style='color:#85BB65'>|</span> IQR score </b> \n",
    "\n",
    "Box plot use the IQR method to display data and outliers(shape of the data) but in order to be get a list of identified outlier, we will need to use the mathematical formula and retrieve the outlier data."
   ]
  },
  {
   "cell_type": "code",
   "execution_count": 8,
   "id": "292330f9",
   "metadata": {
    "scrolled": false
   },
   "outputs": [
    {
     "name": "stdout",
     "output_type": "stream",
     "text": [
      "      CRIM     ZN  INDUS   CHAS    NOX     RM    AGE    DIS    RAD    TAX  \\\n",
      "0    False  False  False  False  False  False  False  False  False  False   \n",
      "1    False  False  False  False  False  False  False  False  False  False   \n",
      "2    False  False  False  False  False  False  False  False  False  False   \n",
      "3    False  False  False  False  False  False  False  False  False  False   \n",
      "4    False  False  False  False  False  False  False  False  False  False   \n",
      "..     ...    ...    ...    ...    ...    ...    ...    ...    ...    ...   \n",
      "501  False  False  False  False  False  False  False  False  False  False   \n",
      "502  False  False  False  False  False  False  False  False  False  False   \n",
      "503  False  False  False  False  False  False  False  False  False  False   \n",
      "504  False  False  False  False  False  False  False  False  False  False   \n",
      "505  False  False  False  False  False  False  False  False  False  False   \n",
      "\n",
      "     PTRATIO      B  LSTAT   MEDV  \n",
      "0      False  False  False  False  \n",
      "1      False  False  False  False  \n",
      "2      False  False  False  False  \n",
      "3      False  False  False  False  \n",
      "4      False  False  False  False  \n",
      "..       ...    ...    ...    ...  \n",
      "501    False  False  False  False  \n",
      "502    False  False  False  False  \n",
      "503    False  False  False  False  \n",
      "504    False  False  False  False  \n",
      "505    False  False  False  False  \n",
      "\n",
      "[506 rows x 14 columns]\n"
     ]
    }
   ],
   "source": [
    "Q1 = boston_df.quantile(0.25)\n",
    "Q3 = boston_df.quantile(0.75)\n",
    "IQR = Q3 - Q1\n",
    "print((boston_df < (Q1 - 1.5 * IQR)) | (boston_df > (Q3 + 1.5 * IQR)))"
   ]
  },
  {
   "cell_type": "markdown",
   "id": "1fc95335",
   "metadata": {},
   "source": [
    "**Code gives an output with some true and false values. The data point where we have False that means these values are valid whereas True indicates presence of an outlier.**"
   ]
  },
  {
   "cell_type": "markdown",
   "id": "5b18cba3",
   "metadata": {},
   "source": [
    "# **<span style='color:#85BB65'> How to deal with outliers? </span>**\n",
    "\n",
    "**It is often necessary to assess the impact of outliers on data analysis or modeling and decide whether to remove or transform them, or if they should be retained as important information.**\n",
    "\n",
    "## <b>I <span style='color:#85BB65'>|</span> Z-Score </b> \n",
    "\n",
    "we saw how one can detect the outlier using Z-score but now we want to remove or filter the outliers and get the clean data. "
   ]
  },
  {
   "cell_type": "code",
   "execution_count": 9,
   "id": "b575da04",
   "metadata": {},
   "outputs": [
    {
     "data": {
      "text/plain": [
       "(506, 14)"
      ]
     },
     "execution_count": 9,
     "metadata": {},
     "output_type": "execute_result"
    }
   ],
   "source": [
    "df1 = boston_df.copy()\n",
    "df1.shape"
   ]
  },
  {
   "cell_type": "code",
   "execution_count": 10,
   "id": "8cec2aae",
   "metadata": {},
   "outputs": [
    {
     "data": {
      "text/plain": [
       "(0, 14)"
      ]
     },
     "execution_count": 10,
     "metadata": {},
     "output_type": "execute_result"
    }
   ],
   "source": [
    "df1 = df1[(z < 3).all(axis=1)]\n",
    "df1.shape"
   ]
  },
  {
   "cell_type": "markdown",
   "id": "2694e390",
   "metadata": {},
   "source": [
    "**Above code removed around 90+ rows from the dataset . Outliers have been removed.**"
   ]
  },
  {
   "cell_type": "markdown",
   "id": "11209c1c",
   "metadata": {},
   "source": [
    "you can use this function to detect outliers and replace them with suitable value."
   ]
  },
  {
   "cell_type": "code",
   "execution_count": 11,
   "id": "10419ce8",
   "metadata": {},
   "outputs": [],
   "source": [
    "def deal_with_outliers_zscore(df, columns=None, threshold=3):\n",
    "    if columns is None:\n",
    "        columns = df.select_dtypes(include=['number']).columns\n",
    "\n",
    "    for col in columns:\n",
    "        z_scores = np.abs(stats.zscore(df[col]))\n",
    "        outliers = z_scores > threshold\n",
    "        \n",
    "        if df[col].dtype == \"int\":\n",
    "            df.loc[outliers, col] = np.nan\n",
    "            df[col].fillna(df[col].median(), inplace=True)\n",
    "        elif df[col].dtype == \"float\":\n",
    "            df.loc[outliers, col] = np.nan\n",
    "            df[col].fillna(df[col].mean(), inplace=True)\n",
    "    \n",
    "    return df"
   ]
  },
  {
   "cell_type": "code",
   "execution_count": 12,
   "id": "9c378452",
   "metadata": {},
   "outputs": [
    {
     "data": {
      "text/plain": [
       "(506, 14)"
      ]
     },
     "execution_count": 12,
     "metadata": {},
     "output_type": "execute_result"
    }
   ],
   "source": [
    "df2 = boston_df.copy()\n",
    "deal_with_outliers_zscore(df2)\n",
    "df2.shape"
   ]
  },
  {
   "cell_type": "code",
   "execution_count": 13,
   "id": "dbbe6472",
   "metadata": {},
   "outputs": [
    {
     "data": {
      "image/png": "[encoded data removed]",
      "text/plain": [
       "<Figure size 640x480 with 1 Axes>"
      ]
     },
     "metadata": {},
     "output_type": "display_data"
    }
   ],
   "source": [
    "# check\n",
    "sns.boxplot(x=df2['DIS']);"
   ]
  },
  {
   "cell_type": "markdown",
   "id": "1a338491",
   "metadata": {},
   "source": [
    "## <b>II <span style='color:#85BB65'>|</span> IQR Score </b> \n"
   ]
  },
  {
   "cell_type": "code",
   "execution_count": 14,
   "id": "5c81c46a",
   "metadata": {},
   "outputs": [
    {
     "data": {
      "text/plain": [
       "(506, 14)"
      ]
     },
     "execution_count": 14,
     "metadata": {},
     "output_type": "execute_result"
    }
   ],
   "source": [
    "df3 = boston_df.copy()\n",
    "df3.shape"
   ]
  },
  {
   "cell_type": "code",
   "execution_count": 15,
   "id": "719c0908",
   "metadata": {},
   "outputs": [
    {
     "data": {
      "text/plain": [
       "(273, 14)"
      ]
     },
     "execution_count": 15,
     "metadata": {},
     "output_type": "execute_result"
    }
   ],
   "source": [
    "df3 = df3[~((df3 < (Q1 - 1.5 * IQR)) |(df3 > (Q3 + 1.5 * IQR))).any(axis=1)]\n",
    "df3.shape"
   ]
  },
  {
   "cell_type": "markdown",
   "id": "4f88cf34",
   "metadata": {},
   "source": [
    "**Above code removed alot of rows from the dataset . Outliers have been removed.**"
   ]
  },
  {
   "cell_type": "markdown",
   "id": "d620e5d6",
   "metadata": {},
   "source": [
    "you can use this function to detect outliers and replace them with suitable value. \n"
   ]
  },
  {
   "cell_type": "code",
   "execution_count": 16,
   "id": "ac5a5648",
   "metadata": {},
   "outputs": [],
   "source": [
    "def deal_with_outliers_IQR(df , columns = None):\n",
    "    \n",
    "    '''Parameters:\n",
    "    \n",
    "        df: Dataframe containing the data\n",
    "        columns: List of quantitative columns to check for outliers. If None, all quantitative columns will be checked.\n",
    "        '''\n",
    "    \n",
    "    if columns is None:\n",
    "        columns = df.select_dtypes(include=['number']).columns\n",
    "\n",
    "    for col in columns:\n",
    "        q1, q3 = df[col].quantile([0.25, 0.75])\n",
    "        iqr = q3 - q1\n",
    "        lower_bound = q1 - (1.5 * iqr)\n",
    "        upper_bound = q3 + (1.5 * iqr)\n",
    "        \n",
    "        # replace the outliers with the lower/upper bound with the median or mean of the column\n",
    "        if df[col].dtype ==\"int\":\n",
    "            \n",
    "            df.loc[(df[col] < lower_bound) | (df[col] > upper_bound), col] = np.nan\n",
    "            df[col].fillna(df[col].median(), inplace=True)\n",
    "            \n",
    "        elif df[col].dtype ==\"float\":\n",
    "            \n",
    "            df.loc[(df[col] < lower_bound) | (df[col] > upper_bound), col] = np.nan\n",
    "            df[col].fillna(df[col].mean(), inplace=True)\n",
    "            \n",
    "    return df"
   ]
  },
  {
   "cell_type": "code",
   "execution_count": 17,
   "id": "a467d803",
   "metadata": {},
   "outputs": [
    {
     "data": {
      "text/plain": [
       "(506, 14)"
      ]
     },
     "execution_count": 17,
     "metadata": {},
     "output_type": "execute_result"
    }
   ],
   "source": [
    "df4 = boston_df.copy()\n",
    "deal_with_outliers_IQR(df4)\n",
    "df4.shape"
   ]
  },
  {
   "cell_type": "code",
   "execution_count": 18,
   "id": "7cbd7f52",
   "metadata": {},
   "outputs": [
    {
     "data": {
      "image/png": "[encoded data removed]",
      "text/plain": [
       "<Figure size 640x480 with 1 Axes>"
      ]
     },
     "metadata": {},
     "output_type": "display_data"
    }
   ],
   "source": [
    "# check\n",
    "sns.boxplot(x=df4['DIS']);"
   ]
  },
  {
   "cell_type": "markdown",
   "id": "83bb504c",
   "metadata": {},
   "source": [
    "**Above code replace the outliers.**\n",
    "\n",
    "There are multiple ways to detect and remove the outliers but the methods, we have used for this exercise, are widely used and easy to understand."
   ]
  },
  {
   "cell_type": "markdown",
   "id": "10ae2b5b",
   "metadata": {},
   "source": [
    "***\n",
    "\n",
    "<br>\n",
    "\n",
    "<div style=\"text-align: center;\">\n",
    "   <span style=\"font-size: 4.5em; font-weight: bold; font-family: Arial;\">THANK YOU!</span>\n",
    "</div>\n",
    "\n",
    "<br>\n",
    "<br>\n",
    "\n",
    "<div style=\"text-align: center;\">\n",
    "    <span style=\"font-size: 5em;\">✔️</span>\n",
    "</div>\n",
    "\n",
    "<br>\n",
    "\n",
    "<div style=\"text-align: center;\">\n",
    "   <span style=\"font-size: 1.4em; font-weight: bold; font-family: Arial; max-width:1200px; display: inline-block;\">\n",
    "       I hope you find this article helpful and have learned some new things ❤\n",
    "       If you find this notebook useful, I'd greatly appreciate your upvote!\n",
    "   </span>\n",
    "</div>\n"
   ]
  },
  {
   "cell_type": "code",
   "execution_count": null,
   "id": "3cc01790",
   "metadata": {},
   "outputs": [],
   "source": []
  }
 ],
 "metadata": {
  "kernelspec": {
   "display_name": "Python 3 (ipykernel)",
   "language": "python",
   "name": "python3"
  },
  "language_info": {
   "codemirror_mode": {
    "name": "ipython",
    "version": 3
   },
   "file_extension": ".py",
   "mimetype": "text/x-python",
   "name": "python",
   "nbconvert_exporter": "python",
   "pygments_lexer": "ipython3",
   "version": "3.9.13"
  }
 },
 "nbformat": 4,
 "nbformat_minor": 5
}
