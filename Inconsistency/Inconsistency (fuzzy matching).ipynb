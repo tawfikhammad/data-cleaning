{
 "cells": [
  {
   "cell_type": "markdown",
   "id": "cd1b8cb2",
   "metadata": {},
   "source": [
    "# <p style=\"padding:10px;background-color:#85BB65;margin:0;color:white;font-family:newtimeroman;font-size:150%;text-align:center;border-radius: 15px 50px;overflow:hidden;font-weight:500\">Inconsistency</p>\n",
    "\n",
    "\n",
    "Inconsistency occurs when two values or more in the data set contradict each other."
   ]
  },
  {
   "cell_type": "code",
   "execution_count": 1,
   "id": "a61365ac",
   "metadata": {},
   "outputs": [],
   "source": [
    "# modules we'll use\n",
    "import pandas as pd\n",
    "import numpy as np\n",
    "\n",
    "# helpful modules\n",
    "import fuzzywuzzy\n",
    "from fuzzywuzzy import process\n",
    "import charset_normalizer\n"
   ]
  },
  {
   "cell_type": "code",
   "execution_count": 2,
   "id": "25ee4f6c",
   "metadata": {},
   "outputs": [
    {
     "data": {
      "text/html": [
       "<div>\n",
       "<style scoped>\n",
       "    .dataframe tbody tr th:only-of-type {\n",
       "        vertical-align: middle;\n",
       "    }\n",
       "\n",
       "    .dataframe tbody tr th {\n",
       "        vertical-align: top;\n",
       "    }\n",
       "\n",
       "    .dataframe thead th {\n",
       "        text-align: right;\n",
       "    }\n",
       "</style>\n",
       "<table border=\"1\" class=\"dataframe\">\n",
       "  <thead>\n",
       "    <tr style=\"text-align: right;\">\n",
       "      <th></th>\n",
       "      <th>carbody</th>\n",
       "      <th>drivewheel</th>\n",
       "      <th>enginelocation</th>\n",
       "      <th>fueltype</th>\n",
       "      <th>aspiration</th>\n",
       "      <th>doornumber</th>\n",
       "      <th>cylindernumber</th>\n",
       "      <th>enginetype</th>\n",
       "      <th>fuelsystem</th>\n",
       "      <th>symboling</th>\n",
       "      <th>...</th>\n",
       "      <th>enginesize</th>\n",
       "      <th>boreratio</th>\n",
       "      <th>stroke</th>\n",
       "      <th>compressionratio</th>\n",
       "      <th>horsepower</th>\n",
       "      <th>peakrpm</th>\n",
       "      <th>citympg</th>\n",
       "      <th>highwaympg</th>\n",
       "      <th>price</th>\n",
       "      <th>company name</th>\n",
       "    </tr>\n",
       "  </thead>\n",
       "  <tbody>\n",
       "    <tr>\n",
       "      <th>0</th>\n",
       "      <td>convertible</td>\n",
       "      <td>rwd</td>\n",
       "      <td>front</td>\n",
       "      <td>gas</td>\n",
       "      <td>std</td>\n",
       "      <td>two</td>\n",
       "      <td>four</td>\n",
       "      <td>dohc</td>\n",
       "      <td>mpfi</td>\n",
       "      <td>3</td>\n",
       "      <td>...</td>\n",
       "      <td>130</td>\n",
       "      <td>3.47</td>\n",
       "      <td>2.68</td>\n",
       "      <td>9.0</td>\n",
       "      <td>111</td>\n",
       "      <td>5000</td>\n",
       "      <td>21</td>\n",
       "      <td>27</td>\n",
       "      <td>13495.0</td>\n",
       "      <td>alfa-romero</td>\n",
       "    </tr>\n",
       "    <tr>\n",
       "      <th>1</th>\n",
       "      <td>convertible</td>\n",
       "      <td>rwd</td>\n",
       "      <td>front</td>\n",
       "      <td>gas</td>\n",
       "      <td>std</td>\n",
       "      <td>two</td>\n",
       "      <td>four</td>\n",
       "      <td>dohc</td>\n",
       "      <td>mpfi</td>\n",
       "      <td>3</td>\n",
       "      <td>...</td>\n",
       "      <td>130</td>\n",
       "      <td>3.47</td>\n",
       "      <td>2.68</td>\n",
       "      <td>9.0</td>\n",
       "      <td>111</td>\n",
       "      <td>5000</td>\n",
       "      <td>21</td>\n",
       "      <td>27</td>\n",
       "      <td>16500.0</td>\n",
       "      <td>alfa-romero</td>\n",
       "    </tr>\n",
       "    <tr>\n",
       "      <th>2</th>\n",
       "      <td>hatchback</td>\n",
       "      <td>rwd</td>\n",
       "      <td>front</td>\n",
       "      <td>gas</td>\n",
       "      <td>std</td>\n",
       "      <td>two</td>\n",
       "      <td>six</td>\n",
       "      <td>ohcv</td>\n",
       "      <td>mpfi</td>\n",
       "      <td>1</td>\n",
       "      <td>...</td>\n",
       "      <td>152</td>\n",
       "      <td>2.68</td>\n",
       "      <td>3.47</td>\n",
       "      <td>9.0</td>\n",
       "      <td>154</td>\n",
       "      <td>5000</td>\n",
       "      <td>19</td>\n",
       "      <td>26</td>\n",
       "      <td>16500.0</td>\n",
       "      <td>alfa-romero</td>\n",
       "    </tr>\n",
       "    <tr>\n",
       "      <th>3</th>\n",
       "      <td>sedan</td>\n",
       "      <td>fwd</td>\n",
       "      <td>front</td>\n",
       "      <td>gas</td>\n",
       "      <td>std</td>\n",
       "      <td>four</td>\n",
       "      <td>four</td>\n",
       "      <td>ohc</td>\n",
       "      <td>mpfi</td>\n",
       "      <td>2</td>\n",
       "      <td>...</td>\n",
       "      <td>109</td>\n",
       "      <td>3.19</td>\n",
       "      <td>3.40</td>\n",
       "      <td>10.0</td>\n",
       "      <td>102</td>\n",
       "      <td>5500</td>\n",
       "      <td>24</td>\n",
       "      <td>30</td>\n",
       "      <td>13950.0</td>\n",
       "      <td>audi</td>\n",
       "    </tr>\n",
       "    <tr>\n",
       "      <th>4</th>\n",
       "      <td>sedan</td>\n",
       "      <td>4wd</td>\n",
       "      <td>front</td>\n",
       "      <td>gas</td>\n",
       "      <td>std</td>\n",
       "      <td>four</td>\n",
       "      <td>five</td>\n",
       "      <td>ohc</td>\n",
       "      <td>mpfi</td>\n",
       "      <td>2</td>\n",
       "      <td>...</td>\n",
       "      <td>136</td>\n",
       "      <td>3.19</td>\n",
       "      <td>3.40</td>\n",
       "      <td>8.0</td>\n",
       "      <td>115</td>\n",
       "      <td>5500</td>\n",
       "      <td>18</td>\n",
       "      <td>22</td>\n",
       "      <td>17450.0</td>\n",
       "      <td>audi</td>\n",
       "    </tr>\n",
       "  </tbody>\n",
       "</table>\n",
       "<p>5 rows × 25 columns</p>\n",
       "</div>"
      ],
      "text/plain": [
       "       carbody drivewheel enginelocation fueltype aspiration doornumber  \\\n",
       "0  convertible        rwd          front      gas        std        two   \n",
       "1  convertible        rwd          front      gas        std        two   \n",
       "2    hatchback        rwd          front      gas        std        two   \n",
       "3        sedan        fwd          front      gas        std       four   \n",
       "4        sedan        4wd          front      gas        std       four   \n",
       "\n",
       "  cylindernumber enginetype fuelsystem  symboling  ...  enginesize  boreratio  \\\n",
       "0           four       dohc       mpfi          3  ...         130       3.47   \n",
       "1           four       dohc       mpfi          3  ...         130       3.47   \n",
       "2            six       ohcv       mpfi          1  ...         152       2.68   \n",
       "3           four        ohc       mpfi          2  ...         109       3.19   \n",
       "4           five        ohc       mpfi          2  ...         136       3.19   \n",
       "\n",
       "   stroke  compressionratio  horsepower  peakrpm  citympg  highwaympg  \\\n",
       "0    2.68               9.0         111     5000       21          27   \n",
       "1    2.68               9.0         111     5000       21          27   \n",
       "2    3.47               9.0         154     5000       19          26   \n",
       "3    3.40              10.0         102     5500       24          30   \n",
       "4    3.40               8.0         115     5500       18          22   \n",
       "\n",
       "     price  company name  \n",
       "0  13495.0   alfa-romero  \n",
       "1  16500.0   alfa-romero  \n",
       "2  16500.0   alfa-romero  \n",
       "3  13950.0          audi  \n",
       "4  17450.0          audi  \n",
       "\n",
       "[5 rows x 25 columns]"
      ]
     },
     "execution_count": 2,
     "metadata": {},
     "output_type": "execute_result"
    }
   ],
   "source": [
    "df = pd.read_csv(\"car_price_1.csv\")\n",
    "df.head()"
   ]
  },
  {
   "cell_type": "markdown",
   "id": "312c85d1",
   "metadata": {},
   "source": [
    "**Say we're interested in cleaning up the \"company name\" column to make sure there's no data entry inconsistencies in it. We could go through and check each row by hand, of course, and hand-correct inconsistencies when we find them and also there's a more efficient way to do this, though!**"
   ]
  },
  {
   "cell_type": "markdown",
   "id": "def59fa6",
   "metadata": {},
   "source": [
    "# <b>I <span style='color:#85BB65'>|</span> fix it manually:</b> \n"
   ]
  },
  {
   "cell_type": "code",
   "execution_count": 3,
   "id": "ed63f81c",
   "metadata": {},
   "outputs": [],
   "source": [
    "df1=df.copy()"
   ]
  },
  {
   "cell_type": "code",
   "execution_count": 4,
   "id": "07329845",
   "metadata": {
    "scrolled": true
   },
   "outputs": [
    {
     "name": "stdout",
     "output_type": "stream",
     "text": [
      "number of unique values = 28 \n",
      "\n",
      "['alfa-romero' 'audi' 'bmw' 'chevrolet' 'dodge' 'honda' 'isuzu' 'jaguar'\n",
      " 'maxda' 'mazda' 'buick' 'mercury' 'mitsubishi' 'Nissan' 'nissan'\n",
      " 'peugeot' 'plymouth' 'porsche' 'porcshce' 'renault' 'saab' 'subaru'\n",
      " 'toyota' 'toyouta' 'vokswagen' 'volkswagen' 'vw' 'volvo']\n"
     ]
    }
   ],
   "source": [
    "print(f\"number of unique values = {df1['company name'].nunique()} \\n\")\n",
    "\n",
    "print(df1['company name'].unique())"
   ]
  },
  {
   "cell_type": "markdown",
   "id": "d72a40f3",
   "metadata": {},
   "source": [
    "#### **<mark style=\"background-color:#85BB65;color:white;border-radius:5px;opacity:1.0\">Note that</mark>**\n",
    "\n",
    "* **maxda = mazda**\n",
    "* **Nissan = nissan**\n",
    "* **porsche = porcshce**\n",
    "* **toyota = toyouta**\n",
    "* **vokswagen = volkswagen = vw**"
   ]
  },
  {
   "cell_type": "code",
   "execution_count": 5,
   "id": "8cdd2b72",
   "metadata": {},
   "outputs": [],
   "source": [
    "df1.replace({'company name':{\"maxda\":\"mazda\" , \n",
    "                        \"Nissan\":\"nissan\" ,\n",
    "                        \"porcshce\":\"porsche\" ,\n",
    "                        \"toyouta\":\"toyota\" ,\n",
    "                        \"vokswagen\":\"volkswagen\" ,\n",
    "                        \"vw\":\"volkswagen\"}},inplace=True)"
   ]
  },
  {
   "cell_type": "code",
   "execution_count": 6,
   "id": "8f47d2aa",
   "metadata": {},
   "outputs": [
    {
     "name": "stdout",
     "output_type": "stream",
     "text": [
      "number of unique values = 22 \n",
      "\n",
      "['alfa-romero' 'audi' 'bmw' 'chevrolet' 'dodge' 'honda' 'isuzu' 'jaguar'\n",
      " 'mazda' 'buick' 'mercury' 'mitsubishi' 'nissan' 'peugeot' 'plymouth'\n",
      " 'porsche' 'renault' 'saab' 'subaru' 'toyota' 'volkswagen' 'volvo']\n"
     ]
    }
   ],
   "source": [
    "print(f\"number of unique values = {df1['company name'].nunique()} \\n\")\n",
    "\n",
    "print(df1['company name'].unique())"
   ]
  },
  {
   "cell_type": "markdown",
   "id": "7905bdfc",
   "metadata": {},
   "source": [
    "now we overcome the inconsistencies problem manually but this dataset is small enough that we could probably could correct errors by hand, but that approach doesn't scale well. (Would you want to correct a thousand errors by hand? What about ten thousand? Automating things as early as possible is generally a good idea. Plus, it’s fun!"
   ]
  },
  {
   "cell_type": "markdown",
   "id": "c0736e5e",
   "metadata": {},
   "source": [
    "# <b>II <span style='color:#85BB65'>|</span> fuzzy matching:</b> \n",
    "\n",
    "**<span style='color:#85BB65'>Fuzzy matching</span>**: **The process of automatically finding text strings that are very similar to the target string. In general, a string is considered \"closer\" to another one the fewer characters you'd need to change if you were transforming one string into another. So \"apple\" and \"snapple\" are two changes away from each other (add \"s\" and \"n\") while \"in\" and \"on\" and one change away (replace \"i\" with \"o\"). You won't always be able to rely on fuzzy matching 100%, but it will usually end up saving you at least a little time.**"
   ]
  },
  {
   "cell_type": "code",
   "execution_count": 7,
   "id": "f99e9b98",
   "metadata": {},
   "outputs": [],
   "source": [
    "df2=df.copy()"
   ]
  },
  {
   "cell_type": "markdown",
   "id": "4931d6bf",
   "metadata": {},
   "source": [
    "first thing I'm going to do is make everything lower case and remove any white spaces at the beginning and end of cells. Inconsistencies in capitalizations and trailing white spaces are very common in text data and you can fix a good 80% of your text data entry inconsistencies by doing this."
   ]
  },
  {
   "cell_type": "code",
   "execution_count": 8,
   "id": "40b5e6b4",
   "metadata": {},
   "outputs": [],
   "source": [
    "# convert to lower case\n",
    "df2['company name'] = df2['company name'].str.lower()\n",
    "# remove trailing white spaces\n",
    "df2['company name'] = df2['company name'].str.strip()"
   ]
  },
  {
   "cell_type": "code",
   "execution_count": 9,
   "id": "6676f41a",
   "metadata": {},
   "outputs": [
    {
     "name": "stdout",
     "output_type": "stream",
     "text": [
      "number of unique values = 27 \n",
      "\n"
     ]
    },
    {
     "data": {
      "text/plain": [
       "array(['alfa-romero', 'audi', 'bmw', 'chevrolet', 'dodge', 'honda',\n",
       "       'isuzu', 'jaguar', 'maxda', 'mazda', 'buick', 'mercury',\n",
       "       'mitsubishi', 'nissan', 'peugeot', 'plymouth', 'porsche',\n",
       "       'porcshce', 'renault', 'saab', 'subaru', 'toyota', 'toyouta',\n",
       "       'vokswagen', 'volkswagen', 'vw', 'volvo'], dtype=object)"
      ]
     },
     "execution_count": 9,
     "metadata": {},
     "output_type": "execute_result"
    }
   ],
   "source": [
    "print(f\"number of unique values = {df2['company name'].nunique()} \\n\")\n",
    "\n",
    "companies_name = df2['company name'].unique()\n",
    "companies_name"
   ]
  },
  {
   "cell_type": "markdown",
   "id": "d0c6dc5f",
   "metadata": {},
   "source": [
    "**<span style='color:#85BB65'>fuzzywuzzy library </span>**\n",
    " **returns a ratio given two strings. The closer the ratio is to 100, the smaller the edit distance between the two strings. Here, we're going to get the ten strings from our list of cities that have the closest distance to any string.**"
   ]
  },
  {
   "cell_type": "code",
   "execution_count": 10,
   "id": "d1d63e94",
   "metadata": {},
   "outputs": [
    {
     "data": {
      "text/plain": [
       "[('toyota', 100),\n",
       " ('toyouta', 92),\n",
       " ('plymouth', 43),\n",
       " ('honda', 36),\n",
       " ('volvo', 36),\n",
       " ('peugeot', 31),\n",
       " ('chevrolet', 27),\n",
       " ('vokswagen', 27),\n",
       " ('volkswagen', 25),\n",
       " ('alfa-romero', 24)]"
      ]
     },
     "execution_count": 10,
     "metadata": {},
     "output_type": "execute_result"
    }
   ],
   "source": [
    "# get the top 10 closest matches to \"toyota\"\n",
    "matches = fuzzywuzzy.process.extract(\"toyota\", companies_name , limit=10, scorer=fuzzywuzzy.fuzz.token_sort_ratio)\n",
    "\n",
    "# take a look at them\n",
    "matches"
   ]
  },
  {
   "cell_type": "markdown",
   "id": "793970cf",
   "metadata": {},
   "source": [
    "**We can see that two of the items in the cities are very close to \"toyota\": \"toyota\" and \"toyouta\". Let's replace all rows in our \"company name\" column that have a ratio of > 90 with \"toyota\". So, let's  write a function to do that.**"
   ]
  },
  {
   "cell_type": "code",
   "execution_count": 11,
   "id": "ccfdfc33",
   "metadata": {},
   "outputs": [],
   "source": [
    "def replace_matches_in_column(df, column, string_to_match, min_ratio = 80):\n",
    "    # get a list of unique strings\n",
    "    strings = df[column].unique()\n",
    "    \n",
    "    # get the top 10 closest matches to our input string\n",
    "    matches = fuzzywuzzy.process.extract(string_to_match, strings, \n",
    "                                         limit=10, scorer=fuzzywuzzy.fuzz.token_sort_ratio)\n",
    "\n",
    "    # only get matches with a ratio > 90\n",
    "    close_matches = [matches[0] for matches in matches if matches[1] >= min_ratio]\n",
    "\n",
    "    # get the rows of all the close matches in our dataframe\n",
    "    rows_with_matches = df[column].isin(close_matches)\n",
    "\n",
    "    # replace all rows with close matches with the input matches \n",
    "    df.loc[rows_with_matches, column] = string_to_match\n",
    "    \n",
    "    # let us know the function's done\n",
    "    print(\"All done!\")"
   ]
  },
  {
   "cell_type": "code",
   "execution_count": 12,
   "id": "f551e3b3",
   "metadata": {},
   "outputs": [
    {
     "name": "stdout",
     "output_type": "stream",
     "text": [
      "All done!\n"
     ]
    }
   ],
   "source": [
    "# use the function we just wrote to replace close matches to \"toyota\" with \"toyota\"\n",
    "replace_matches_in_column(df=df2, column='company name', string_to_match=\"toyota\" , min_ratio = 90)"
   ]
  },
  {
   "cell_type": "code",
   "execution_count": 13,
   "id": "a403a3be",
   "metadata": {},
   "outputs": [
    {
     "name": "stdout",
     "output_type": "stream",
     "text": [
      "number of unique values = 26 \n",
      "\n",
      "['alfa-romero' 'audi' 'bmw' 'chevrolet' 'dodge' 'honda' 'isuzu' 'jaguar'\n",
      " 'maxda' 'mazda' 'buick' 'mercury' 'mitsubishi' 'nissan' 'peugeot'\n",
      " 'plymouth' 'porsche' 'porcshce' 'renault' 'saab' 'subaru' 'toyota'\n",
      " 'vokswagen' 'volkswagen' 'vw' 'volvo']\n"
     ]
    }
   ],
   "source": [
    "print(f\"number of unique values = {df2['company name'].nunique()} \\n\")\n",
    "\n",
    "print(df2['company name'].unique())"
   ]
  },
  {
   "cell_type": "markdown",
   "id": "f3f7b66d",
   "metadata": {},
   "source": [
    "**Now we only have \"toyota\" in our dataframe . you can change others with function and you didn't have to change anything by hand.**"
   ]
  },
  {
   "cell_type": "markdown",
   "id": "a5f6cb9d",
   "metadata": {},
   "source": [
    "***\n",
    "\n",
    "<br>\n",
    "\n",
    "<div style=\"text-align: center;\">\n",
    "   <span style=\"font-size: 4.5em; font-weight: bold; font-family: Arial;\">THANK YOU!</span>\n",
    "</div>/\n",
    "\n",
    "<br>\n",
    "<br>\n",
    "\n",
    "<div style=\"text-align: center;\">\n",
    "    <span style=\"font-size: 5em;\">✔️</span>\n",
    "</div>\n",
    "\n",
    "<br>\n",
    "\n",
    "<div style=\"text-align: center;\">\n",
    "   <span style=\"font-size: 1.4em; font-weight: bold; font-family: Arial; max-width:1200px; display: inline-block;\">\n",
    "       If you find this notebook useful, I'd greatly appreciate your upvote!\n",
    "   </span>\n",
    "</div>\n"
   ]
  },
  {
   "cell_type": "code",
   "execution_count": null,
   "id": "aa733b65",
   "metadata": {},
   "outputs": [],
   "source": []
  }
 ],
 "metadata": {
  "kernelspec": {
   "display_name": "Python 3 (ipykernel)",
   "language": "python",
   "name": "python3"
  },
  "language_info": {
   "codemirror_mode": {
    "name": "ipython",
    "version": 3
   },
   "file_extension": ".py",
   "mimetype": "text/x-python",
   "name": "python",
   "nbconvert_exporter": "python",
   "pygments_lexer": "ipython3",
   "version": "3.9.13"
  }
 },
 "nbformat": 4,
 "nbformat_minor": 5
}
